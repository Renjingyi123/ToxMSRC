{
 "cells": [
  {
   "cell_type": "code",
   "execution_count": 7,
   "id": "779fc62b-e9ba-4eac-8946-8217eb957ed8",
   "metadata": {},
   "outputs": [],
   "source": [
    "from Bio import SeqIO\n",
    "import pandas as pd\n",
    "import warnings\n",
    "warnings.filterwarnings('ignore')"
   ]
  },
  {
   "cell_type": "code",
   "execution_count": 8,
   "id": "61cfb4bb-5bad-419d-8078-5c227ebc1cf3",
   "metadata": {},
   "outputs": [],
   "source": [
    "def read_fasta(fname):\n",
    "    with open(fname, \"rU\") as f:\n",
    "        seq_dict = [(record.id, record.seq._data.decode())\n",
    "                    for record in SeqIO.parse(f, \"fasta\")]\n",
    "    seq_df = pd.DataFrame(data=seq_dict, columns=[\"Id\", \"Sequence\"])\n",
    "    return seq_df"
   ]
  },
  {
   "cell_type": "code",
   "execution_count": 9,
   "id": "7c4d5937-5dda-4edf-8fb4-dc699eeac07e",
   "metadata": {},
   "outputs": [
    {
     "name": "stdout",
     "output_type": "stream",
     "text": [
      "            Id                                           Sequence\n",
      "0    peptide|1             APAKRWFGHEECTYWLGPCEVDDTCCSASCESKFCGLW\n",
      "1    peptide|1                                   DCCIIAGCPFGCTICC\n",
      "2    peptide|1                       CKGKGAPCTRLMYDCCHGSCSSSKGRCG\n",
      "3    peptide|1                               LAKRADICQPGKTSQRACET\n",
      "4    peptide|1                                 RSVCSNGCRPKPFGGCSC\n",
      "..         ...                                                ...\n",
      "883  peptide|0  MPTWLTTIFSVVIILGIFAWIGLSIYQKIKQIRGKKKDKKEIERKESNK\n",
      "884  peptide|0                                    MNRVQFNHHHHHHPD\n",
      "885  peptide|0                      MKIKFVFDLLTPDDILHPSNHVNLIIRPI\n",
      "886  peptide|0                              MAAACRCLSLLLLSTCVALLL\n",
      "887  peptide|0                               CKPASIKIRLNSTADTGFYV\n",
      "\n",
      "[888 rows x 2 columns]\n"
     ]
    }
   ],
   "source": [
    "dic = read_fasta('../Example data/example_train.fasta')\n",
    "print(dic)"
   ]
  },
  {
   "cell_type": "code",
   "execution_count": 10,
   "id": "5e3d4f7b-2abe-457c-8b4b-26597b200c3a",
   "metadata": {},
   "outputs": [],
   "source": [
    "# dic.to_csv('example_train.csv')"
   ]
  },
  {
   "cell_type": "code",
   "execution_count": 11,
   "id": "ebc642dd-dc93-40b6-970a-21cc8937c58b",
   "metadata": {},
   "outputs": [
    {
     "name": "stdout",
     "output_type": "stream",
     "text": [
      "                Id                                          Sequence\n",
      "0     sequence_1|1             MLKFILALALFLHLTMEASAACKGKKCPPTGFVGMRG\n",
      "1     sequence_2|1                                       RPPGFTPFRKA\n",
      "2     sequence_3|1              GDCHKFLGWCRGEPDPCCEHLSCSRKHGWCVWDWTV\n",
      "3     sequence_4|1       KAKCADIDQPCKTSCDCCETKGACTCYKSGCVCRMGSFATCKK\n",
      "4     sequence_5|1                                       SQCCYQICSPC\n",
      "5     sequence_6|1                                     EQLIRKDVHEFAS\n",
      "6     sequence_7|1                          DQCSYCGIYCCPPKFCTSAGCRSP\n",
      "7     sequence_8|1               MKKTFLPIFLVILLASYALANPQVTFSRDWGPGKK\n",
      "8   sequence_575|0  MPKQLSPDQDKLHKNILRDRFLSSFKQPGRFRAELEKVKLILKRKGHE\n",
      "9   sequence_576|0  MARFSEAENRVLNVKICMRCNARNPIRATRCRKCRYKGLRMKSKESRG\n",
      "10  sequence_577|0                                 SKDNYKNYIPLIVPFAT\n",
      "11  sequence_578|0                   KGKGFWSWASKATSWLTGPQQPGSPLLKKHR\n",
      "12  sequence_579|0         MKVRNSLRSAKARDKNCRVVRRHGRVYVINKKNPRMKARQG\n",
      "13  sequence_580|0                       DVPSANANANNQRTAAAKPQANAEASS\n",
      "14  sequence_581|0            MKKTDKILKEIGIQRVAIMEGKKYSKGFMEDGDIGVQY\n",
      "15  sequence_582|0          MKNTVKLEQFVALKEKDLQKIQGGEMRKSNNNFFHFLRRI\n"
     ]
    }
   ],
   "source": [
    "dic = read_fasta('../Example data/example_test.fasta')\n",
    "print(dic)"
   ]
  },
  {
   "cell_type": "code",
   "execution_count": 12,
   "id": "ea723b3e-0b65-4e07-abf9-41220f3789de",
   "metadata": {},
   "outputs": [],
   "source": [
    "# dic.to_csv('example_test.csv')"
   ]
  }
 ],
 "metadata": {
  "kernelspec": {
   "display_name": "Python 3 (ipykernel)",
   "language": "python",
   "name": "python3"
  },
  "language_info": {
   "codemirror_mode": {
    "name": "ipython",
    "version": 3
   },
   "file_extension": ".py",
   "mimetype": "text/x-python",
   "name": "python",
   "nbconvert_exporter": "python",
   "pygments_lexer": "ipython3",
   "version": "3.9.13"
  }
 },
 "nbformat": 4,
 "nbformat_minor": 5
}
