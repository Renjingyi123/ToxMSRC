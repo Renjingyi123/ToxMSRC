{
 "cells": [
  {
   "cell_type": "code",
   "execution_count": 1,
   "id": "a73683b9-a406-4d5a-a2f6-c664a32856b5",
   "metadata": {},
   "outputs": [],
   "source": [
    "from keras.utils import to_categorical as labelEncoding\n",
    "from sklearn.metrics import average_precision_score, f1_score, recall_score\n",
    "from sklearn.metrics import (confusion_matrix, matthews_corrcoef, roc_curve, auc, accuracy_score)\n",
    "from model import ourmodel\n",
    "import numpy as np"
   ]
  },
  {
   "cell_type": "code",
   "execution_count": 2,
   "id": "1c0f07a6-f1ca-4208-85e0-48d30c81d451",
   "metadata": {},
   "outputs": [],
   "source": [
    "my_seed = 42\n",
    "np.random.seed(my_seed)\n",
    "import random\n",
    "\n",
    "random.seed(my_seed)\n",
    "import tensorflow as tf\n",
    "\n",
    "tf.random.set_seed(my_seed)\n",
    "import pandas as pd"
   ]
  },
  {
   "cell_type": "code",
   "execution_count": 3,
   "id": "8cdde70e-beac-41b5-aa9e-c48d6aa07274",
   "metadata": {},
   "outputs": [
    {
     "name": "stdout",
     "output_type": "stream",
     "text": [
      "200/200 [==============================] - 6s 25ms/step\n",
      "ACC :  0.9920150305307656\n",
      "SN :  0.982948294829483\n",
      "SP :  0.9956226745458525\n",
      "MCC :  0.9803655254239965\n",
      "AUC :  0.9971335500807686\n"
     ]
    }
   ],
   "source": [
    "data1 = np.load('Raw data/X.npz')\n",
    "X2 = data1['x_train']\n",
    "y_2 = pd.read_csv('Raw data/y_train.csv').to_numpy()\n",
    "y2 = labelEncoding(y_2, dtype=int)\n",
    "model = ourmodel()\n",
    "model.load_weights('model/ToxMSRC.h5')\n",
    "y_tes = y_2\n",
    "y_p = model.predict([X2])\n",
    "y_pred1 = y_p.argmax(axis=1)\n",
    "acc = accuracy_score(y_tes, y_pred1)\n",
    "sn = recall_score(y_tes, y_pred1)\n",
    "mcc = matthews_corrcoef(y_tes, y_pred1)\n",
    "tn, fp, fn, tp = confusion_matrix(y_tes, y_pred1).ravel()\n",
    "sp = tn / (tn + fp)\n",
    "fpr, tpr, _ = roc_curve(y_tes, y_p[:, 1])\n",
    "rocauc = auc(fpr, tpr)\n",
    "aupr = average_precision_score(y_tes, y_pred1)\n",
    "f1 = f1_score(y_tes, np.round(y_pred1.reshape(-1)))\n",
    "print(\"ACC : \", acc)\n",
    "print(\"SN : \", sn)\n",
    "print(\"SP : \", sp)\n",
    "print(\"MCC : \", mcc)\n",
    "print(\"AUC : \", rocauc)"
   ]
  },
  {
   "cell_type": "code",
   "execution_count": 4,
   "id": "4ea90439-ff74-48ac-b80c-e33d7b488da5",
   "metadata": {},
   "outputs": [
    {
     "name": "stdout",
     "output_type": "stream",
     "text": [
      "36/36 [==============================] - 2s 24ms/step\n",
      "ACC :  0.9404973357015985\n",
      "SN :  0.878125\n",
      "SP :  0.9652605459057072\n",
      "MCC :  0.8524686093044462\n",
      "AUC :  0.9649154776674937\n"
     ]
    }
   ],
   "source": [
    "data1 = np.load('Raw data/X.npz')\n",
    "X2 = data1['x_test1']\n",
    "y_2 = pd.read_csv('Raw data/y_test1.csv').to_numpy()\n",
    "y2 = labelEncoding(y_2, dtype=int)\n",
    "model = ourmodel()\n",
    "model.load_weights('model/ToxMSRC.h5')\n",
    "y_tes = y_2\n",
    "y_p = model.predict([X2])\n",
    "y_pred1 = y_p.argmax(axis=1)\n",
    "acc = accuracy_score(y_tes, y_pred1)\n",
    "sn = recall_score(y_tes, y_pred1)\n",
    "mcc = matthews_corrcoef(y_tes, y_pred1)\n",
    "tn, fp, fn, tp = confusion_matrix(y_tes, y_pred1).ravel()\n",
    "sp = tn / (tn + fp)\n",
    "fpr, tpr, _ = roc_curve(y_tes, y_p[:, 1])\n",
    "rocauc = auc(fpr, tpr)\n",
    "aupr = average_precision_score(y_tes, y_pred1)\n",
    "f1 = f1_score(y_tes, np.round(y_pred1.reshape(-1)))\n",
    "print(\"ACC : \", acc)\n",
    "print(\"SN : \", sn)\n",
    "print(\"SP : \", sp)\n",
    "print(\"MCC : \", mcc)\n",
    "print(\"AUC : \", rocauc)"
   ]
  },
  {
   "cell_type": "code",
   "execution_count": 5,
   "id": "e33f546a-8edc-49b7-9708-2dda644ba62e",
   "metadata": {},
   "outputs": [
    {
     "name": "stdout",
     "output_type": "stream",
     "text": [
      "19/19 [==============================] - 1s 24ms/step\n",
      "ACC :  0.9415807560137457\n",
      "SN :  0.782608695652174\n",
      "SP :  0.9552238805970149\n",
      "MCC :  0.654648624887106\n",
      "AUC :  0.9431781310837118\n"
     ]
    }
   ],
   "source": [
    "data1 = np.load('Raw data/X.npz')\n",
    "X2 = data1['x_test2']\n",
    "y_2 = pd.read_csv('Raw data/y_test2.csv').to_numpy()\n",
    "y2 = labelEncoding(y_2, dtype=int)\n",
    "model = ourmodel()\n",
    "model.load_weights('model/ToxMSRC.h5')\n",
    "y_tes = y_2\n",
    "y_p = model.predict([X2])\n",
    "y_pred1 = y_p.argmax(axis=1)\n",
    "acc = accuracy_score(y_tes, y_pred1)\n",
    "sn = recall_score(y_tes, y_pred1)\n",
    "mcc = matthews_corrcoef(y_tes, y_pred1)\n",
    "tn, fp, fn, tp = confusion_matrix(y_tes, y_pred1).ravel()\n",
    "sp = tn / (tn + fp)\n",
    "fpr, tpr, _ = roc_curve(y_tes, y_p[:, 1])\n",
    "rocauc = auc(fpr, tpr)\n",
    "aupr = average_precision_score(y_tes, y_pred1)\n",
    "f1 = f1_score(y_tes, np.round(y_pred1.reshape(-1)))\n",
    "print(\"ACC : \", acc)\n",
    "print(\"SN : \", sn)\n",
    "print(\"SP : \", sp)\n",
    "print(\"MCC : \", mcc)\n",
    "print(\"AUC : \", rocauc)"
   ]
  }
 ],
 "metadata": {
  "kernelspec": {
   "display_name": "Python 3 (ipykernel)",
   "language": "python",
   "name": "python3"
  },
  "language_info": {
   "codemirror_mode": {
    "name": "ipython",
    "version": 3
   },
   "file_extension": ".py",
   "mimetype": "text/x-python",
   "name": "python",
   "nbconvert_exporter": "python",
   "pygments_lexer": "ipython3",
   "version": "3.9.13"
  }
 },
 "nbformat": 4,
 "nbformat_minor": 5
}
