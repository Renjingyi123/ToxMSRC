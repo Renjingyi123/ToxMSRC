{
 "cells": [
  {
   "cell_type": "code",
   "execution_count": 1,
   "id": "ff7567bd-eb2c-49b1-bb15-fe9c8572991d",
   "metadata": {},
   "outputs": [],
   "source": [
    "import gensim\n",
    "from Bio import SeqIO\n",
    "import numpy as np\n",
    "import pandas as pd\n",
    "import warnings\n",
    "warnings.filterwarnings('ignore')"
   ]
  },
  {
   "cell_type": "code",
   "execution_count": 2,
   "id": "d1caa513-b1ee-422b-875c-1846d456ccb1",
   "metadata": {},
   "outputs": [],
   "source": [
    "def Gen_Words(sequences, kmer_len, s):\n",
    "    out = []\n",
    "    for i in sequences:\n",
    "        kmer_list = []\n",
    "        for j in range(0, (len(i) - kmer_len) + 1, s):\n",
    "            kmer_list.append(i[j:j + kmer_len])\n",
    "        out.append(kmer_list)\n",
    "    return out"
   ]
  },
  {
   "cell_type": "code",
   "execution_count": 3,
   "id": "058b4697-d59f-42bc-8eef-2c58e9b90d5d",
   "metadata": {},
   "outputs": [],
   "source": [
    "model = gensim.models.Word2Vec.load('word2vec.model')"
   ]
  },
  {
   "cell_type": "code",
   "execution_count": 8,
   "id": "578b643c-3971-4364-8526-53d0988c40c7",
   "metadata": {},
   "outputs": [
    {
     "name": "stdout",
     "output_type": "stream",
     "text": [
      "(888, 49, 96)\n"
     ]
    }
   ],
   "source": [
    "x_train = pd.read_csv('../process_data/example_train.csv')\n",
    "xx_train = []\n",
    "for seq in x_train['Sequence']:\n",
    "    xx_train.append(seq + (50-len(seq)) * 'X')\n",
    "x_train = np.array(xx_train)\n",
    "x_train = Gen_Words(x_train, 2, 1)\n",
    "X_train = []\n",
    "for i in range(0, len(x_train)):\n",
    "    s = []\n",
    "    for word in x_train[i]:\n",
    "        s.append(model.wv[word])\n",
    "    X_train.append(s)\n",
    "print(np.array(X_train).shape)"
   ]
  },
  {
   "cell_type": "code",
   "execution_count": 9,
   "id": "0c8a5e87-52e4-4833-b2b6-d4adb7e09edd",
   "metadata": {},
   "outputs": [
    {
     "name": "stdout",
     "output_type": "stream",
     "text": [
      "(16, 49, 96)\n"
     ]
    }
   ],
   "source": [
    "x_test = pd.read_csv('../process_data/example_test.csv')\n",
    "xx_test = []\n",
    "for seq in x_test['Sequence']:\n",
    "    xx_test.append(seq + (50-len(seq)) * 'X')\n",
    "x_test = np.array(xx_test)\n",
    "x_test = Gen_Words(x_test, 2, 1)\n",
    "X_test = []\n",
    "for i in range(0, len(x_test)):\n",
    "    s = []\n",
    "    for word in x_test[i]:\n",
    "        s.append(model.wv[word])\n",
    "    X_test.append(s)\n",
    "print(np.array(X_test).shape)"
   ]
  },
  {
   "cell_type": "code",
   "execution_count": null,
   "id": "308fca24-54fe-4394-91c9-59e56a623db8",
   "metadata": {},
   "outputs": [],
   "source": [
    "# np.savez('example_X.npz', x_train=np.array(X_train), x_test=np.array(X_test)) "
   ]
  }
 ],
 "metadata": {
  "kernelspec": {
   "display_name": "Python 3 (ipykernel)",
   "language": "python",
   "name": "python3"
  },
  "language_info": {
   "codemirror_mode": {
    "name": "ipython",
    "version": 3
   },
   "file_extension": ".py",
   "mimetype": "text/x-python",
   "name": "python",
   "nbconvert_exporter": "python",
   "pygments_lexer": "ipython3",
   "version": "3.9.13"
  }
 },
 "nbformat": 4,
 "nbformat_minor": 5
}
