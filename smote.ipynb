{
 "cells": [
  {
   "cell_type": "code",
   "execution_count": 8,
   "id": "d9f474e1-705e-4cf8-848f-960f909f45f0",
   "metadata": {},
   "outputs": [],
   "source": [
    "import numpy as np\n",
    "import pandas as pd\n",
    "from sklearn.neighbors import NearestNeighbors\n",
    "from keras.utils import to_categorical as labelEncoding"
   ]
  },
  {
   "cell_type": "code",
   "execution_count": 9,
   "id": "a501359b-6a27-4e77-a622-f9de07b95dd9",
   "metadata": {},
   "outputs": [],
   "source": [
    "def SMOTE(X, y, N, k=3):\n",
    "\n",
    "    # Separate the majority-class and minority-class samples\n",
    "    X_majority = X[y == 0]\n",
    "    X_minority = X[y == 1]\n",
    "\n",
    "    # Calculate the number of synthetic samples to generate for each minority-class instance\n",
    "    N_per_sample = N // len(X_minority)\n",
    "\n",
    "    # If k exceeds the number of minority samples, reduce it to the maximum possible value\n",
    "    k = min(k, len(X_minority) - 1)\n",
    "\n",
    "    # Initialize a list to store synthetic samples and their corresponding labels\n",
    "    synthetic_samples = []\n",
    "    synthetic_labels = []\n",
    "\n",
    "    # Fit a k-nearest neighbors (KNN) model on the minority class samples\n",
    "    knn = NearestNeighbors(n_neighbors=k)\n",
    "    knn.fit(X_minority)\n",
    "\n",
    "    for minority_sample in X_minority:\n",
    "        # Find the k-nearest neighbors for the current minority class sample\n",
    "        _, indices = knn.kneighbors(minority_sample.reshape(1, -1), n_neighbors=k)\n",
    "\n",
    "        # Randomly select k neighbors and create synthetic samples\n",
    "        for _ in range(N_per_sample):\n",
    "            neighbor_index = np.random.choice(indices[0])\n",
    "            neighbor = X_minority[neighbor_index]\n",
    "\n",
    "            # Calculate the difference between the current minority-class sample and its neighbors\n",
    "            difference = neighbor - minority_sample\n",
    "\n",
    "            # Generate a random number between 0 and 1\n",
    "            alpha = np.random.random()\n",
    "\n",
    "            # Create a synthetic sample as a linear combination of the minority-class sample and its neighbor\n",
    "            synthetic_sample = minority_sample + alpha * difference\n",
    "\n",
    "            # Append the synthetic sample and its label to the list\n",
    "            synthetic_samples.append(synthetic_sample)\n",
    "            synthetic_labels.append(1)\n",
    "\n",
    "    # Convert the list to a NumPy array\n",
    "    X_synthetic = np.array(synthetic_samples)\n",
    "    y_synthetic = np.array(synthetic_labels)\n",
    "\n",
    "    # Combine the original majority-class samples with the synthetic samples\n",
    "    X_balanced = np.concatenate((X_majority, X_synthetic), axis=0)\n",
    "    y_balanced = np.concatenate((np.zeros(len(X_majority)), y_synthetic), axis=0)\n",
    "\n",
    "    return X_balanced, y_balanced"
   ]
  },
  {
   "cell_type": "code",
   "execution_count": 10,
   "id": "2f170fc1-dee0-4905-99ba-2d3f907178e7",
   "metadata": {},
   "outputs": [],
   "source": [
    "def datapro(x, y):\n",
    "    xx = []\n",
    "    for i in x:\n",
    "        xx.append(i.flatten().tolist())\n",
    "    xx = np.array(xx)\n",
    "    yy = y.reshape(1, -1)[0]\n",
    "    X_balanced, y_balanced = SMOTE(xx, yy, N=1818)\n",
    "    X_train = np.concatenate((X_balanced, xx[:1818]), axis=0)\n",
    "    y_train = np.concatenate((y_balanced, yy[:1818]), axis=0)\n",
    "    XX = []\n",
    "    for i in X_train:\n",
    "        XX.append(i.reshape(49, 96))\n",
    "    XX = np.array(XX)\n",
    "    y_train = np.array([int(i) for i in y_train])\n",
    "    y_train = y_train.reshape(8205, 1)\n",
    "    return XX, np.array(y_train)"
   ]
  },
  {
   "cell_type": "code",
   "execution_count": 12,
   "id": "34bccc49-b587-4a5c-9fc9-b6b261c5578e",
   "metadata": {},
   "outputs": [
    {
     "name": "stdout",
     "output_type": "stream",
     "text": [
      "(8205, 49, 96)\n",
      "(8205, 1)\n"
     ]
    }
   ],
   "source": [
    "data = np.load('Raw data/X.npz')\n",
    "X1 = data['x_train']\n",
    "y_1 = pd.read_csv('Raw data/y_train.csv').to_numpy()\n",
    "X1, y_1 = datapro(X1, y_1)\n",
    "print(X1.shape)\n",
    "print(y_1.shape)"
   ]
  }
 ],
 "metadata": {
  "kernelspec": {
   "display_name": "Python 3 (ipykernel)",
   "language": "python",
   "name": "python3"
  },
  "language_info": {
   "codemirror_mode": {
    "name": "ipython",
    "version": 3
   },
   "file_extension": ".py",
   "mimetype": "text/x-python",
   "name": "python",
   "nbconvert_exporter": "python",
   "pygments_lexer": "ipython3",
   "version": "3.9.13"
  }
 },
 "nbformat": 4,
 "nbformat_minor": 5
}
