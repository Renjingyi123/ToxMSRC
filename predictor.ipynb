{
 "cells": [
  {
   "cell_type": "code",
   "execution_count": 17,
   "id": "5bb6a3a0-cfcf-480b-859a-60574d025cc0",
   "metadata": {},
   "outputs": [],
   "source": [
    "import gensim.models\n",
    "import numpy as np\n",
    "from pathlib import Path\n",
    "import pandas as pd\n",
    "import argparse\n",
    "from Bio import SeqIO\n",
    "from model import ourmodel"
   ]
  },
  {
   "cell_type": "code",
   "execution_count": 18,
   "id": "bed0a4d9-1e1d-439b-b846-54224f3e95c9",
   "metadata": {},
   "outputs": [],
   "source": [
    "def read_fasta(fname):\n",
    "    with open(fname, \"rU\") as f:\n",
    "        seq_dict = [(record.id, record.seq._data.decode())\n",
    "                    for record in SeqIO.parse(f, \"fasta\")]\n",
    "    seq_df = pd.DataFrame(data=seq_dict, columns=[\"Id\", \"Sequence\"])\n",
    "    return seq_df"
   ]
  },
  {
   "cell_type": "code",
   "execution_count": 19,
   "id": "f8a8ab89-84c7-4bea-a070-6be17e660a36",
   "metadata": {},
   "outputs": [],
   "source": [
    "def Gen_Words(sequences, kmer_len, s):\n",
    "    out = []\n",
    "    for i in sequences:\n",
    "        kmer_list = []\n",
    "        for j in range(0, (len(i) - kmer_len) + 1, s):\n",
    "            kmer_list.append(i[j:j + kmer_len])\n",
    "        out.append(kmer_list)\n",
    "    return out"
   ]
  },
  {
   "cell_type": "code",
   "execution_count": 21,
   "id": "614cb8f2-5335-4db2-b5a1-02c3e1e2e03e",
   "metadata": {},
   "outputs": [],
   "source": [
    "def read_data(Filename):\n",
    "    dictin = {}\n",
    "    i = 1\n",
    "    with open(Filename) as fid:\n",
    "        name = None\n",
    "        for line in fid:\n",
    "            if line.startswith('#'):\n",
    "                continue\n",
    "            if line.startswith('>'):\n",
    "                name = line.strip()[1:] + str(i)\n",
    "                dictin[name] = ''\n",
    "                i += 1\n",
    "            else:\n",
    "                if name is None:\n",
    "                    continue\n",
    "                dictin[name] += line.strip()\n",
    "    return dictin"
   ]
  },
  {
   "cell_type": "code",
   "execution_count": 22,
   "id": "0aa07f0b-214d-437e-9809-597591dc49a8",
   "metadata": {},
   "outputs": [],
   "source": [
    "def fixOneSeq(seqIn, fixFrontScale, cutFrontScale, spcLen, paddingRes='X'):\n",
    "    if len(seqIn) > spcLen:\n",
    "        # cut\n",
    "        exceedLen = len(seqIn) - spcLen\n",
    "        frontLen = int(np.rint(float(exceedLen) * cutFrontScale))\n",
    "        # lastLen = exceedLen - frontLen\n",
    "        outSeq = seqIn[frontLen:frontLen + spcLen]\n",
    "    elif len(seqIn) < spcLen:\n",
    "        exceedLen = spcLen - len(seqIn)\n",
    "        frontLen = int(np.rint(float(exceedLen) * fixFrontScale))\n",
    "        lastLen = exceedLen - frontLen\n",
    "        outSeq = ''\n",
    "        outSeq += paddingRes * frontLen\n",
    "        outSeq += seqIn\n",
    "        outSeq += paddingRes * lastLen\n",
    "    else:\n",
    "        outSeq = seqIn\n",
    "    return outSeq"
   ]
  },
  {
   "cell_type": "code",
   "execution_count": 23,
   "id": "1120ab32-5a9f-4611-8a3a-2fb57dda9679",
   "metadata": {},
   "outputs": [],
   "source": [
    "def printout(fileout, Dictin):\n",
    "    with open(fileout, 'w') as FIDO:\n",
    "        for k in Dictin:\n",
    "            FIDO.write('>%s\\n' % k)\n",
    "            tmpstr = Dictin[k]\n",
    "            FIDO.write('%s\\n' % tmpstr)"
   ]
  },
  {
   "cell_type": "code",
   "execution_count": 24,
   "id": "4ed623a8-c2bf-42e2-a5e0-f35a1a5609e3",
   "metadata": {},
   "outputs": [],
   "source": [
    "def supple_X(in_Filename, out_Filename, maxl):\n",
    "    Dictin = read_data(in_Filename)\n",
    "    outDict = {}\n",
    "    for k in Dictin:\n",
    "        tmpOut = fixOneSeq(Dictin[k], 0, 0, maxl, paddingRes='X')\n",
    "        outDict[k] = tmpOut\n",
    "    printout(out_Filename, outDict)"
   ]
  },
  {
   "cell_type": "code",
   "execution_count": 25,
   "id": "1b3c46cb-e83f-48d6-8c35-9d0612ba6fbe",
   "metadata": {},
   "outputs": [],
   "source": [
    "def process_data(file, outfile):\n",
    "    supple_X(file, outfile, 50)\n",
    "    seq_data = read_fasta(outfile)\n",
    "    data = seq_data.iloc[:, 1].to_numpy()\n",
    "\n",
    "    return data"
   ]
  },
  {
   "cell_type": "code",
   "execution_count": 26,
   "id": "fdaee381-4066-4b70-90b8-07aa76a49da7",
   "metadata": {},
   "outputs": [],
   "source": [
    "def predict(model, data, output_path):\n",
    "    model.load_weights('model/ToxMSRC.h5')\n",
    "    y_p = model.predict([data])\n",
    "    # output_file = os.path.join(output_path, 'result.txt')\n",
    "    print(y_p)\n",
    "    # np.savetxt(output_file, y_p[:, 1])"
   ]
  },
  {
   "cell_type": "code",
   "execution_count": 28,
   "id": "3ee88563-54a6-4629-a8e1-a3a7bdeec654",
   "metadata": {},
   "outputs": [
    {
     "name": "stdout",
     "output_type": "stream",
     "text": [
      "36/36 [==============================] - 2s 23ms/step\n",
      "[[9.9165726e-01 8.3427336e-03]\n",
      " [9.9999785e-01 2.2004429e-06]\n",
      " [6.0724405e-11 1.0000000e+00]\n",
      " ...\n",
      " [9.9999917e-01 8.3084075e-07]\n",
      " [9.9984980e-01 1.5015420e-04]\n",
      " [9.9999988e-01 7.3328380e-08]]\n"
     ]
    }
   ],
   "source": [
    "if __name__ == '__main__':\n",
    "    file = 'Raw data/test1.fasta'\n",
    "    outfile = 'supple_test.fasta'\n",
    "    output_path = 'result'\n",
    "\n",
    "    # reading file\n",
    "    data = process_data(file, outfile)\n",
    "    W_model = gensim.models.Word2Vec.load('word2vec_model/word2vec.model')\n",
    "    x_test3 = Gen_Words(data, 2, 1)\n",
    "    X_test = []\n",
    "    for i in range(0, len(x_test3)):\n",
    "        s = []\n",
    "        for word in x_test3[i]:\n",
    "            if word in W_model.wv:\n",
    "                s.append(W_model.wv[word])\n",
    "            else:\n",
    "                s.append(np.zeros([150, ]))\n",
    "        X_test.append(s)\n",
    "    X_test = np.array(X_test)\n",
    "    model = ourmodel()\n",
    "    predict(model, X_test, output_path)"
   ]
  }
 ],
 "metadata": {
  "kernelspec": {
   "display_name": "Python 3 (ipykernel)",
   "language": "python",
   "name": "python3"
  },
  "language_info": {
   "codemirror_mode": {
    "name": "ipython",
    "version": 3
   },
   "file_extension": ".py",
   "mimetype": "text/x-python",
   "name": "python",
   "nbconvert_exporter": "python",
   "pygments_lexer": "ipython3",
   "version": "3.9.13"
  }
 },
 "nbformat": 4,
 "nbformat_minor": 5
}
